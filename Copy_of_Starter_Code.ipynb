{
  "nbformat": 4,
  "nbformat_minor": 0,
  "metadata": {
    "colab": {
      "name": "Copy of Starter Code.ipynb",
      "provenance": [],
      "collapsed_sections": [],
      "include_colab_link": true
    },
    "kernelspec": {
      "name": "python3",
      "display_name": "Python 3"
    },
    "language_info": {
      "name": "python"
    }
  },
  "cells": [
    {
      "cell_type": "markdown",
      "metadata": {
        "id": "view-in-github",
        "colab_type": "text"
      },
      "source": [
        "<a href=\"https://colab.research.google.com/github/rex66-7033/ITEC3030A1/blob/main/Copy_of_Starter_Code.ipynb\" target=\"_parent\"><img src=\"https://colab.research.google.com/assets/colab-badge.svg\" alt=\"Open In Colab\"/></a>"
      ]
    },
    {
      "cell_type": "markdown",
      "metadata": {
        "id": "D36msp48ABAT"
      },
      "source": [
        "## Business Scenario\n",
        "In this task, we will do some data analysis using both SQL and Python. The goal is to generate a report for our client company, telling them the performance metrics of our AI model。 The performance metrics we want to know are TRUE POSITIVE rate, FALSE POSITIVE rate and FALSE NEGATIVE rate. Please do some research and make sure you fully understand these terms. We will calculate the above metrics on a daily basis, and eventually we need to generate a graph helping the client to visualize the how the metrics changing by time. "
      ]
    },
    {
      "cell_type": "markdown",
      "metadata": {
        "id": "bLyZ6tIy-1iE"
      },
      "source": [
        "## Connect to Mongo DB\n",
        "The first thing we need to do is create a Mongo Atalas account and download the Mongo Compass. After that, you can upload the label metadata JSON file to Mongo DB. Also, please do some research and make sure you understand the concept of JSON file and NoSQL. Once you have imported the data into Mongo DB, you can connect your database to Python by the following code. "
      ]
    },
    {
      "cell_type": "code",
      "metadata": {
        "id": "U9p0uY9HkR3e",
        "colab": {
          "base_uri": "https://localhost:8080/"
        },
        "outputId": "e258e6d7-ac7a-4b1c-9aae-9ac776fde11c"
      },
      "source": [
        "# Install the required modules\n",
        "!pip install pymongo\n",
        "!pip install dnspython==2.0"
      ],
      "execution_count": null,
      "outputs": [
        {
          "output_type": "stream",
          "text": [
            "Requirement already satisfied: pymongo in /usr/local/lib/python3.7/dist-packages (3.11.4)\n",
            "Collecting dnspython==2.0\n",
            "\u001b[?25l  Downloading https://files.pythonhosted.org/packages/90/49/cb426577c28ca3e35332815b795a99e467523843fc83cc85ca0d6be2515a/dnspython-2.0.0-py3-none-any.whl (208kB)\n",
            "\u001b[K     |████████████████████████████████| 215kB 6.8MB/s \n",
            "\u001b[?25hInstalling collected packages: dnspython\n",
            "Successfully installed dnspython-2.0.0\n"
          ],
          "name": "stdout"
        }
      ]
    },
    {
      "cell_type": "code",
      "metadata": {
        "id": "JH5PRb0PrN0g"
      },
      "source": [
        "# Import required modules\n",
        "from pymongo import MongoClient\n",
        "import numpy as np\n",
        "import pandas as pd\n",
        "import matplotlib.pyplot as plt\n"
      ],
      "execution_count": null,
      "outputs": []
    },
    {
      "cell_type": "code",
      "metadata": {
        "id": "PhlTGU-hvJDw"
      },
      "source": [
        "# Connect to MongoDB Atlas\n",
        "client = MongoClient(### Your url at here ###)\n",
        "\n",
        "# Choose which database you want to connect\n",
        "mydb = client[### Your database ###]\n",
        "\n",
        "# Choose which collection in the database you want to connect\n",
        "mycol = mydb[### Your collection ###]\n",
        "\n",
        "# Fetch all the documents from collection\n",
        "label_meta = list(mycol.find())"
      ],
      "execution_count": null,
      "outputs": []
    },
    {
      "cell_type": "code",
      "metadata": {
        "id": "pUMPJi_qluhb",
        "colab": {
          "base_uri": "https://localhost:8080/"
        },
        "outputId": "3686490b-25f6-4b4f-c400-93525225a5e8"
      },
      "source": [
        "print('The total number of documents is:', len(label_meta))"
      ],
      "execution_count": null,
      "outputs": [
        {
          "output_type": "stream",
          "text": [
            "The total number of documents is: 689342\n"
          ],
          "name": "stdout"
        }
      ]
    },
    {
      "cell_type": "markdown",
      "metadata": {
        "id": "sPCfJ9WxAKc5"
      },
      "source": [
        "## Query the Company (Organization) Which Owns the Most Projects\n",
        "We want to generate a report for our important client, the company who have done the most projects with us. In this case, you need to write a query in PostgreSQL to find which company has the most number of projects. Please record the organization id in the following cell. (Hint: you need to use COUNT and GROUP BY functions in SQL)"
      ]
    },
    {
      "cell_type": "code",
      "metadata": {
        "id": "gYhsNKQ3Pqae"
      },
      "source": [
        "big_org = ### Your answer"
      ],
      "execution_count": null,
      "outputs": []
    },
    {
      "cell_type": "markdown",
      "metadata": {
        "id": "8-ln8KMKB2E9"
      },
      "source": [
        "## Further Query\n",
        "After we know which company has the most number of projects, we want to filter their data from the LABEL table in PostgreSQL. However, the LABEL table does not contain any information about organization, so we need to incorporate with another table to finish our query. Here you need to apply JOIN function if SQL. Note that JOIN is a very important function in SQL, please make sure you understand all type of JOIN in SQL. The query has the following criteria:\n",
        "<br />\n",
        "1. Fetch all columns from the LABEL table <br />\n",
        "2. Filter the project_id column, we only want to fetch rows which project_id are belong to big_org. <br />\n",
        "3. Filter the is_seed column, we only want is_seed to be false. <br />\n",
        "4. Filter the type column, we only want to analyze image data for this report. If you want more practice, you can also do the text data analysis later and compare it with image data.  <br />\n",
        "5. Convert the timestamp of create_date and update_date to readable date like 2020-01-01. (Hint: you may get a date time like 2020-01-01 15:36:22-04 first, please search some way to get rid of the time and timezone) <br />\n",
        "6. Order the results by create_date in ASCENDING order. <br />\n",
        "7. Once you fetch the results, please export the result to CSV file and upload it to Google Colab. \n",
        "\n",
        "Note: you can finish the above task in ONE query. If you are able to finish this query, you are having a good understanding of SQL then. You may expect to spend more time on this one. "
      ]
    },
    {
      "cell_type": "markdown",
      "metadata": {
        "id": "WalSzo9fIW__"
      },
      "source": [
        "## Read the resulting CSV file in Python\n",
        "Use Python Pandas to read the csv"
      ]
    },
    {
      "cell_type": "code",
      "metadata": {
        "id": "LAcou2tyrxFq"
      },
      "source": [
        "# Read the csv file \n",
        "df_bigorg = ### Your code to read csv by pandas"
      ],
      "execution_count": null,
      "outputs": []
    },
    {
      "cell_type": "code",
      "metadata": {
        "colab": {
          "base_uri": "https://localhost:8080/",
          "height": 459
        },
        "id": "4Mkwen8_tIqj",
        "outputId": "45473a13-21f1-419b-ab61-ccc5ac783a5b"
      },
      "source": [
        "# Preview of the df_bigorg\n",
        "df_bigorg.head()"
      ],
      "execution_count": null,
      "outputs": [
        {
          "output_type": "execute_result",
          "data": {
            "text/html": [
              "<div>\n",
              "<style scoped>\n",
              "    .dataframe tbody tr th:only-of-type {\n",
              "        vertical-align: middle;\n",
              "    }\n",
              "\n",
              "    .dataframe tbody tr th {\n",
              "        vertical-align: top;\n",
              "    }\n",
              "\n",
              "    .dataframe thead th {\n",
              "        text-align: right;\n",
              "    }\n",
              "</style>\n",
              "<table border=\"1\" class=\"dataframe\">\n",
              "  <thead>\n",
              "    <tr style=\"text-align: right;\">\n",
              "      <th></th>\n",
              "      <th>label_id</th>\n",
              "      <th>project_id</th>\n",
              "      <th>asset_id</th>\n",
              "      <th>type</th>\n",
              "      <th>is_seed</th>\n",
              "      <th>create_date</th>\n",
              "      <th>update_date</th>\n",
              "      <th>is_included_in_training_data</th>\n",
              "      <th>label_time</th>\n",
              "      <th>approved_by</th>\n",
              "      <th>model_version</th>\n",
              "      <th>is_changed</th>\n",
              "    </tr>\n",
              "  </thead>\n",
              "  <tbody>\n",
              "    <tr>\n",
              "      <th>0</th>\n",
              "      <td>fd3769d6-5f74-4dd0-9ee9-4d04fe89d628</td>\n",
              "      <td>b40d3027-c398-4b5f-a861-6586e89a2d01</td>\n",
              "      <td>a99dc8f5-c2c3-42c8-9c6e-be58bcf5b0f3</td>\n",
              "      <td>image</td>\n",
              "      <td>False</td>\n",
              "      <td>2020-07-05</td>\n",
              "      <td>2020-07-05</td>\n",
              "      <td>True</td>\n",
              "      <td>17.684482</td>\n",
              "      <td>ef7eac18-6221-4301-b83c-9b58904f6cfb</td>\n",
              "      <td>1</td>\n",
              "      <td>True</td>\n",
              "    </tr>\n",
              "    <tr>\n",
              "      <th>1</th>\n",
              "      <td>81c74bec-0e4c-4258-b3ee-733dd812b5fe</td>\n",
              "      <td>9571bb51-7f8f-449a-91a7-2c6328297229</td>\n",
              "      <td>66a178f9-accb-4536-aeb6-aa689f547b0f</td>\n",
              "      <td>image</td>\n",
              "      <td>False</td>\n",
              "      <td>2020-07-05</td>\n",
              "      <td>2020-07-05</td>\n",
              "      <td>True</td>\n",
              "      <td>4.776199</td>\n",
              "      <td>ef7eac18-6221-4301-b83c-9b58904f6cfb</td>\n",
              "      <td>1</td>\n",
              "      <td>False</td>\n",
              "    </tr>\n",
              "    <tr>\n",
              "      <th>2</th>\n",
              "      <td>9d32afc4-52b9-469e-a5a0-3c0ff19a5288</td>\n",
              "      <td>b15a0999-c6d9-4cae-9bc9-6a2072c2c531</td>\n",
              "      <td>f6d31a67-7b95-4825-8eb9-5db1b83c668d</td>\n",
              "      <td>image</td>\n",
              "      <td>False</td>\n",
              "      <td>2020-07-05</td>\n",
              "      <td>2020-07-05</td>\n",
              "      <td>True</td>\n",
              "      <td>18.480190</td>\n",
              "      <td>ef7eac18-6221-4301-b83c-9b58904f6cfb</td>\n",
              "      <td>1</td>\n",
              "      <td>True</td>\n",
              "    </tr>\n",
              "    <tr>\n",
              "      <th>3</th>\n",
              "      <td>cabacb4f-9bcb-45f7-9417-61929705a14c</td>\n",
              "      <td>016f0952-9426-4963-8ced-a394c3389e87</td>\n",
              "      <td>e6f55e80-ccfe-41a5-ac3f-63c55cc1b3f2</td>\n",
              "      <td>image</td>\n",
              "      <td>False</td>\n",
              "      <td>2020-07-05</td>\n",
              "      <td>2020-07-06</td>\n",
              "      <td>True</td>\n",
              "      <td>5.877106</td>\n",
              "      <td>9c1be7df-4df8-4774-9b3b-7a5e39d1f51c</td>\n",
              "      <td>1</td>\n",
              "      <td>False</td>\n",
              "    </tr>\n",
              "    <tr>\n",
              "      <th>4</th>\n",
              "      <td>bfaacc3c-fe49-4b9d-9630-74bcc7a11a67</td>\n",
              "      <td>686b44eb-d504-4b5d-9c1a-ff0b88bdd09e</td>\n",
              "      <td>7fa36589-c0e8-451d-8ea4-5a501d788151</td>\n",
              "      <td>image</td>\n",
              "      <td>False</td>\n",
              "      <td>2020-07-05</td>\n",
              "      <td>2020-07-06</td>\n",
              "      <td>True</td>\n",
              "      <td>5.561129</td>\n",
              "      <td>ef7eac18-6221-4301-b83c-9b58904f6cfb</td>\n",
              "      <td>1</td>\n",
              "      <td>False</td>\n",
              "    </tr>\n",
              "  </tbody>\n",
              "</table>\n",
              "</div>"
            ],
            "text/plain": [
              "                               label_id  ... is_changed\n",
              "0  fd3769d6-5f74-4dd0-9ee9-4d04fe89d628  ...       True\n",
              "1  81c74bec-0e4c-4258-b3ee-733dd812b5fe  ...      False\n",
              "2  9d32afc4-52b9-469e-a5a0-3c0ff19a5288  ...       True\n",
              "3  cabacb4f-9bcb-45f7-9417-61929705a14c  ...      False\n",
              "4  bfaacc3c-fe49-4b9d-9630-74bcc7a11a67  ...      False\n",
              "\n",
              "[5 rows x 12 columns]"
            ]
          },
          "metadata": {
            "tags": []
          },
          "execution_count": 38
        }
      ]
    },
    {
      "cell_type": "markdown",
      "metadata": {
        "id": "UZPJqZJyJuga"
      },
      "source": [
        "## Filter the Metadata from Mongo DB by label_id\n",
        "We have about 700,000 documents in the collection, apparently we don't want them all. We only want to filter out the documents which have label_id in the df_birorg column. The following code will do this task. "
      ]
    },
    {
      "cell_type": "code",
      "metadata": {
        "id": "In-fbd1Fvacd"
      },
      "source": [
        "# Convert the label_id column of df_bigorg to a numpy array\n",
        "label_ids = ### Your code here"
      ],
      "execution_count": null,
      "outputs": []
    },
    {
      "cell_type": "code",
      "metadata": {
        "id": "Fjr7vFWyvhnm"
      },
      "source": [
        "# Filter the metadata in Mongo DB\n",
        "metadata = list(mycol.find( { \"label_id\": { \"$in\": list(label_ids) } } ))"
      ],
      "execution_count": null,
      "outputs": []
    },
    {
      "cell_type": "code",
      "metadata": {
        "colab": {
          "base_uri": "https://localhost:8080/"
        },
        "id": "aiSc5IziMAkG",
        "outputId": "a4af79f1-db4c-4993-8d04-cb03360f60b1"
      },
      "source": [
        "# Preview of the metadata\n",
        "metadata[0]"
      ],
      "execution_count": null,
      "outputs": [
        {
          "output_type": "execute_result",
          "data": {
            "text/plain": [
              "{'_id': ObjectId('60ce6fea86fbfb52bcd97905'),\n",
              " 'key': 0,\n",
              " 'label_id': 'c0c6bde7-635c-4323-891c-dbc13aef2745',\n",
              " 'metadata': {'annotated_by': '8b06673f-b1b5-4a59-b3eb-b6f1ee1b4181',\n",
              "  'bounding_data': {'class_name': 'skateboard',\n",
              "   'height': 0.823118033,\n",
              "   'width': 0.6169070912,\n",
              "   'x': 0.6905071447,\n",
              "   'y': 0.2871237606},\n",
              "  'box_create_date': 1594033198301,\n",
              "  'box_update_date': 1594033208301,\n",
              "  'label_create_date': 1594033198301}}"
            ]
          },
          "metadata": {
            "tags": []
          },
          "execution_count": 41
        }
      ]
    },
    {
      "cell_type": "code",
      "metadata": {
        "colab": {
          "base_uri": "https://localhost:8080/"
        },
        "id": "YF-E1p-TxLqx",
        "outputId": "4fefbe53-48d6-44ef-d8d0-3a2f446ef096"
      },
      "source": [
        "### Get the length of metadata\n",
        "total = ### Your code\n",
        "print('The total number of documents we have right now is: ',total)"
      ],
      "execution_count": null,
      "outputs": [
        {
          "output_type": "stream",
          "text": [
            "The total number of documents we have right now is:  21190\n"
          ],
          "name": "stdout"
        }
      ]
    },
    {
      "cell_type": "markdown",
      "metadata": {
        "id": "vbSC35apL-dp"
      },
      "source": [
        "## Calculate the Total True Positive, False Positive and False Negative\n",
        "After we filter out the metadata, we can calculate the metrics based on that. \n",
        "The logic is as following: <br />\n",
        "1. If annotated_by is model, then this label box is drawn by the model directly and no one had changed that later, so it's a true positive. <br />\n",
        "2. If annotated_by is not model, then this label box is changed or created by someone. If the box_create_date is greater than label_create_date, then it means the box is created after the initial labelling (by model). In this case, someone added the label box and it's a False Negative. \n",
        "3. If the box_update_date is greater than the box_create_date, then it means the box is changed after the initial labelling (by model). In this case, someone changed the label box and it's a False Positive. <br />\n",
        "\n",
        "Please write a FOR loop to calculate the total number of TP, FP, FN and calculate their respective rate (divided by total). \n",
        "\n"
      ]
    },
    {
      "cell_type": "code",
      "metadata": {
        "id": "4PTjtS6NxuPS"
      },
      "source": [
        "### Your code here"
      ],
      "execution_count": null,
      "outputs": []
    },
    {
      "cell_type": "code",
      "metadata": {
        "colab": {
          "base_uri": "https://localhost:8080/"
        },
        "id": "WynGqRhZge8x",
        "outputId": "b1c34a80-830a-4939-d758-ebab3928a253"
      },
      "source": [
        "tp_rate = ### Your code\n",
        "fp_rate = ### Your code\n",
        "fn_rate = ### Your code\n",
        "print('The TP rate is:', tp_rate)\n",
        "print('The FP rate is:', fp_rate)\n",
        "print('The FN rate is:', fn_rate)"
      ],
      "execution_count": null,
      "outputs": [
        {
          "output_type": "stream",
          "text": [
            "The TP rate is: 0.761208117036338\n",
            "The FP rate is: 0.19329872581406324\n",
            "The FN rate is: 0.04549315714959887\n"
          ],
          "name": "stdout"
        }
      ]
    },
    {
      "cell_type": "markdown",
      "metadata": {
        "id": "9iQTjBvtgiIP"
      },
      "source": [
        "## Calculate the Daily Metrics\n",
        "Now we have the total performance metrics, then we want to calculate them at a daily basis. To do that, we need to slice the df_bigorg by create_date. If you understand what's happening in the above codes, you should be able to write a FOR loop and Python function to get all the daily metrics. (Make sure you understand how Python function works).  "
      ]
    },
    {
      "cell_type": "code",
      "metadata": {
        "id": "AiRszdyqiZcb"
      },
      "source": [
        "### Your code here"
      ],
      "execution_count": null,
      "outputs": []
    },
    {
      "cell_type": "markdown",
      "metadata": {
        "id": "uPVyp_XckWoI"
      },
      "source": [
        "## Visualize the Result\n",
        "After we calculate all the daily metrics, we need to use matplotlib to visualize the results. You need to make 3 plots, each for TP, FP and FN. Make sure you give your plots proper title and axis labels. "
      ]
    },
    {
      "cell_type": "code",
      "metadata": {
        "colab": {
          "base_uri": "https://localhost:8080/",
          "height": 422
        },
        "id": "0YEJYYe2j7SJ",
        "outputId": "7831f7e9-3507-4ba9-d1a9-a9354a79d044"
      },
      "source": [
        "# TP\n",
        "### Your code"
      ],
      "execution_count": null,
      "outputs": [
        {
          "output_type": "execute_result",
          "data": {
            "text/plain": [
              "([0, 1, 2, 3, 4, 5, 6, 7, 8, 9, 10, 11, 12, 13, 14, 15, 16],\n",
              " <a list of 17 Text major ticklabel objects>)"
            ]
          },
          "metadata": {
            "tags": []
          },
          "execution_count": 88
        },
        {
          "output_type": "display_data",
          "data": {
            "image/png": "[encoded data removed]",
            "text/plain": [
              "<Figure size 720x360 with 1 Axes>"
            ]
          },
          "metadata": {
            "tags": [],
            "needs_background": "light"
          }
        }
      ]
    },
    {
      "cell_type": "code",
      "metadata": {
        "colab": {
          "base_uri": "https://localhost:8080/",
          "height": 422
        },
        "id": "wqgdGA-LkNac",
        "outputId": "5f563718-8a76-43ea-e2b1-1ea74a881e56"
      },
      "source": [
        "# FP\n",
        "### Your code"
      ],
      "execution_count": null,
      "outputs": [
        {
          "output_type": "execute_result",
          "data": {
            "text/plain": [
              "([0, 1, 2, 3, 4, 5, 6, 7, 8, 9, 10, 11, 12, 13, 14, 15, 16],\n",
              " <a list of 17 Text major ticklabel objects>)"
            ]
          },
          "metadata": {
            "tags": []
          },
          "execution_count": 89
        },
        {
          "output_type": "display_data",
          "data": {
            "image/png": "[encoded data removed]",
            "text/plain": [
              "<Figure size 720x360 with 1 Axes>"
            ]
          },
          "metadata": {
            "tags": [],
            "needs_background": "light"
          }
        }
      ]
    },
    {
      "cell_type": "code",
      "metadata": {
        "colab": {
          "base_uri": "https://localhost:8080/",
          "height": 422
        },
        "id": "dvLjg3_5lfma",
        "outputId": "59b8dbbc-3f42-4678-bfcf-b9469659c3be"
      },
      "source": [
        "# FN\n",
        "### Your code"
      ],
      "execution_count": null,
      "outputs": [
        {
          "output_type": "execute_result",
          "data": {
            "text/plain": [
              "([0, 1, 2, 3, 4, 5, 6, 7, 8, 9, 10, 11, 12, 13, 14, 15, 16],\n",
              " <a list of 17 Text major ticklabel objects>)"
            ]
          },
          "metadata": {
            "tags": []
          },
          "execution_count": 90
        },
        {
          "output_type": "display_data",
          "data": {
            "image/png": "[encoded data removed]",
            "text/plain": [
              "<Figure size 720x360 with 1 Axes>"
            ]
          },
          "metadata": {
            "tags": [],
            "needs_background": "light"
          }
        }
      ]
    },
    {
      "cell_type": "markdown",
      "metadata": {
        "id": "ve8IBtVeltYZ"
      },
      "source": [
        "## Description\n",
        "Please qualitatively describe what the plots are telling. Is there any trends, please describe. If there is any outliers, please explore why there are outliers. "
      ]
    },
    {
      "cell_type": "code",
      "metadata": {
        "id": "WRdiZjJ3lo1-"
      },
      "source": [
        "### Your code"
      ],
      "execution_count": null,
      "outputs": []
    },
    {
      "cell_type": "code",
      "metadata": {
        "id": "oFe6_ZywmN46"
      },
      "source": [
        ""
      ],
      "execution_count": null,
      "outputs": []
    }
  ]
}